{
  "nbformat": 4,
  "nbformat_minor": 0,
  "metadata": {
    "colab": {
      "name": "deepsiba_torch.ipynb",
      "provenance": [],
      "collapsed_sections": [
        "0uUL-XLIbDwK",
        "dNToVljcbglb",
        "O2Dn8Ckqbnw-"
      ]
    },
    "kernelspec": {
      "name": "python3",
      "display_name": "Python 3"
    },
    "accelerator": "GPU",
    "widgets": {
      "application/vnd.jupyter.widget-state+json": {
        "6296e1fc0f164f31965a13c96e599105": {
          "model_module": "@jupyter-widgets/controls",
          "model_name": "HBoxModel",
          "state": {
            "_view_name": "HBoxView",
            "_dom_classes": [],
            "_model_name": "HBoxModel",
            "_view_module": "@jupyter-widgets/controls",
            "_model_module_version": "1.5.0",
            "_view_count": null,
            "_view_module_version": "1.5.0",
            "box_style": "",
            "layout": "IPY_MODEL_2e81b16a92bb49519f74f13acd35ccba",
            "_model_module": "@jupyter-widgets/controls",
            "children": [
              "IPY_MODEL_6d844bee065f4dbab80c9e4573219ff8",
              "IPY_MODEL_d1f551ab743c4fd38c2f5135262c92bd"
            ]
          }
        },
        "2e81b16a92bb49519f74f13acd35ccba": {
          "model_module": "@jupyter-widgets/base",
          "model_name": "LayoutModel",
          "state": {
            "_view_name": "LayoutView",
            "grid_template_rows": null,
            "right": null,
            "justify_content": null,
            "_view_module": "@jupyter-widgets/base",
            "overflow": null,
            "_model_module_version": "1.2.0",
            "_view_count": null,
            "flex_flow": null,
            "width": null,
            "min_width": null,
            "border": null,
            "align_items": null,
            "bottom": null,
            "_model_module": "@jupyter-widgets/base",
            "top": null,
            "grid_column": null,
            "overflow_y": null,
            "overflow_x": null,
            "grid_auto_flow": null,
            "grid_area": null,
            "grid_template_columns": null,
            "flex": null,
            "_model_name": "LayoutModel",
            "justify_items": null,
            "grid_row": null,
            "max_height": null,
            "align_content": null,
            "visibility": null,
            "align_self": null,
            "height": null,
            "min_height": null,
            "padding": null,
            "grid_auto_rows": null,
            "grid_gap": null,
            "max_width": null,
            "order": null,
            "_view_module_version": "1.2.0",
            "grid_template_areas": null,
            "object_position": null,
            "object_fit": null,
            "grid_auto_columns": null,
            "margin": null,
            "display": null,
            "left": null
          }
        },
        "6d844bee065f4dbab80c9e4573219ff8": {
          "model_module": "@jupyter-widgets/controls",
          "model_name": "FloatProgressModel",
          "state": {
            "_view_name": "ProgressView",
            "style": "IPY_MODEL_2f3c4a9360aa4ac6bf40bf5318af50d2",
            "_dom_classes": [],
            "description": " 38%",
            "_model_name": "FloatProgressModel",
            "bar_style": "",
            "max": 1367,
            "_view_module": "@jupyter-widgets/controls",
            "_model_module_version": "1.5.0",
            "value": 526,
            "_view_count": null,
            "_view_module_version": "1.5.0",
            "orientation": "horizontal",
            "min": 0,
            "description_tooltip": null,
            "_model_module": "@jupyter-widgets/controls",
            "layout": "IPY_MODEL_7de17170a159437594da147733628554"
          }
        },
        "d1f551ab743c4fd38c2f5135262c92bd": {
          "model_module": "@jupyter-widgets/controls",
          "model_name": "HTMLModel",
          "state": {
            "_view_name": "HTMLView",
            "style": "IPY_MODEL_df67cc8bec734fe788fe059bd1080fa9",
            "_dom_classes": [],
            "description": "",
            "_model_name": "HTMLModel",
            "placeholder": "​",
            "_view_module": "@jupyter-widgets/controls",
            "_model_module_version": "1.5.0",
            "value": " 526/1367 [01:59&lt;03:07,  4.48batch/s, Cindex=67.1829, Epoch=1, Loss=-1.5259, pearson=-0.0000, r2=-2031.3124]",
            "_view_count": null,
            "_view_module_version": "1.5.0",
            "description_tooltip": null,
            "_model_module": "@jupyter-widgets/controls",
            "layout": "IPY_MODEL_c4b4a8c3e5a2448eb5d159f4bb5152b1"
          }
        },
        "2f3c4a9360aa4ac6bf40bf5318af50d2": {
          "model_module": "@jupyter-widgets/controls",
          "model_name": "ProgressStyleModel",
          "state": {
            "_view_name": "StyleView",
            "_model_name": "ProgressStyleModel",
            "description_width": "initial",
            "_view_module": "@jupyter-widgets/base",
            "_model_module_version": "1.5.0",
            "_view_count": null,
            "_view_module_version": "1.2.0",
            "bar_color": null,
            "_model_module": "@jupyter-widgets/controls"
          }
        },
        "7de17170a159437594da147733628554": {
          "model_module": "@jupyter-widgets/base",
          "model_name": "LayoutModel",
          "state": {
            "_view_name": "LayoutView",
            "grid_template_rows": null,
            "right": null,
            "justify_content": null,
            "_view_module": "@jupyter-widgets/base",
            "overflow": null,
            "_model_module_version": "1.2.0",
            "_view_count": null,
            "flex_flow": null,
            "width": null,
            "min_width": null,
            "border": null,
            "align_items": null,
            "bottom": null,
            "_model_module": "@jupyter-widgets/base",
            "top": null,
            "grid_column": null,
            "overflow_y": null,
            "overflow_x": null,
            "grid_auto_flow": null,
            "grid_area": null,
            "grid_template_columns": null,
            "flex": null,
            "_model_name": "LayoutModel",
            "justify_items": null,
            "grid_row": null,
            "max_height": null,
            "align_content": null,
            "visibility": null,
            "align_self": null,
            "height": null,
            "min_height": null,
            "padding": null,
            "grid_auto_rows": null,
            "grid_gap": null,
            "max_width": null,
            "order": null,
            "_view_module_version": "1.2.0",
            "grid_template_areas": null,
            "object_position": null,
            "object_fit": null,
            "grid_auto_columns": null,
            "margin": null,
            "display": null,
            "left": null
          }
        },
        "df67cc8bec734fe788fe059bd1080fa9": {
          "model_module": "@jupyter-widgets/controls",
          "model_name": "DescriptionStyleModel",
          "state": {
            "_view_name": "StyleView",
            "_model_name": "DescriptionStyleModel",
            "description_width": "",
            "_view_module": "@jupyter-widgets/base",
            "_model_module_version": "1.5.0",
            "_view_count": null,
            "_view_module_version": "1.2.0",
            "_model_module": "@jupyter-widgets/controls"
          }
        },
        "c4b4a8c3e5a2448eb5d159f4bb5152b1": {
          "model_module": "@jupyter-widgets/base",
          "model_name": "LayoutModel",
          "state": {
            "_view_name": "LayoutView",
            "grid_template_rows": null,
            "right": null,
            "justify_content": null,
            "_view_module": "@jupyter-widgets/base",
            "overflow": null,
            "_model_module_version": "1.2.0",
            "_view_count": null,
            "flex_flow": null,
            "width": null,
            "min_width": null,
            "border": null,
            "align_items": null,
            "bottom": null,
            "_model_module": "@jupyter-widgets/base",
            "top": null,
            "grid_column": null,
            "overflow_y": null,
            "overflow_x": null,
            "grid_auto_flow": null,
            "grid_area": null,
            "grid_template_columns": null,
            "flex": null,
            "_model_name": "LayoutModel",
            "justify_items": null,
            "grid_row": null,
            "max_height": null,
            "align_content": null,
            "visibility": null,
            "align_self": null,
            "height": null,
            "min_height": null,
            "padding": null,
            "grid_auto_rows": null,
            "grid_gap": null,
            "max_width": null,
            "order": null,
            "_view_module_version": "1.2.0",
            "grid_template_areas": null,
            "object_position": null,
            "object_fit": null,
            "grid_auto_columns": null,
            "margin": null,
            "display": null,
            "left": null
          }
        }
      }
    }
  },
  "cells": [
    {
      "cell_type": "markdown",
      "metadata": {
        "id": "0uUL-XLIbDwK"
      },
      "source": [
        "# Load dependencies"
      ]
    },
    {
      "cell_type": "code",
      "metadata": {
        "id": "HPFWQDo-a-yV",
        "colab": {
          "base_uri": "https://localhost:8080/"
        },
        "outputId": "03a9e758-a428-45fb-c9ee-ea5842b5738c"
      },
      "source": [
        "import sys\n",
        "import os\n",
        "import requests\n",
        "import subprocess\n",
        "import shutil\n",
        "from logging import getLogger, StreamHandler, INFO\n",
        "\n",
        "\n",
        "logger = getLogger(__name__)\n",
        "logger.addHandler(StreamHandler())\n",
        "logger.setLevel(INFO)\n",
        "\n",
        "\n",
        "def install(\n",
        "        chunk_size=4096,\n",
        "        file_name=\"Miniconda3-latest-Linux-x86_64.sh\",\n",
        "        url_base=\"https://repo.continuum.io/miniconda/\",\n",
        "        conda_path=os.path.expanduser(os.path.join(\"~\", \"miniconda\")),\n",
        "        rdkit_version=None,\n",
        "        add_python_path=True,\n",
        "        force=False):\n",
        "    \"\"\"install rdkit from miniconda\n",
        "    ```\n",
        "    import rdkit_installer\n",
        "    rdkit_installer.install()\n",
        "    ```\n",
        "    \"\"\"\n",
        "\n",
        "    python_path = os.path.join(\n",
        "        conda_path,\n",
        "        \"lib\",\n",
        "        \"python{0}.{1}\".format(*sys.version_info),\n",
        "        \"site-packages\",\n",
        "    )\n",
        "\n",
        "    if add_python_path and python_path not in sys.path:\n",
        "        logger.info(\"add {} to PYTHONPATH\".format(python_path))\n",
        "        sys.path.append(python_path)\n",
        "\n",
        "    if os.path.isdir(os.path.join(python_path, \"rdkit\")):\n",
        "        logger.info(\"rdkit is already installed\")\n",
        "        if not force:\n",
        "            return\n",
        "\n",
        "        logger.info(\"force re-install\")\n",
        "\n",
        "    url = url_base + file_name\n",
        "    python_version = \"{0}.{1}.{2}\".format(*sys.version_info)\n",
        "\n",
        "    logger.info(\"python version: {}\".format(python_version))\n",
        "\n",
        "    if os.path.isdir(conda_path):\n",
        "        logger.warning(\"remove current miniconda\")\n",
        "        shutil.rmtree(conda_path)\n",
        "    elif os.path.isfile(conda_path):\n",
        "        logger.warning(\"remove {}\".format(conda_path))\n",
        "        os.remove(conda_path)\n",
        "\n",
        "    logger.info('fetching installer from {}'.format(url))\n",
        "    res = requests.get(url, stream=True)\n",
        "    res.raise_for_status()\n",
        "    with open(file_name, 'wb') as f:\n",
        "        for chunk in res.iter_content(chunk_size):\n",
        "            f.write(chunk)\n",
        "    logger.info('done')\n",
        "\n",
        "    logger.info('installing miniconda to {}'.format(conda_path))\n",
        "    subprocess.check_call([\"bash\", file_name, \"-b\", \"-p\", conda_path])\n",
        "    logger.info('done')\n",
        "\n",
        "    logger.info(\"installing rdkit\")\n",
        "    subprocess.check_call([\n",
        "        os.path.join(conda_path, \"bin\", \"conda\"),\n",
        "        \"install\",\n",
        "        \"--yes\",\n",
        "        \"-c\", \"rdkit\",\n",
        "        \"python=={}\".format(python_version),\n",
        "        \"rdkit\" if rdkit_version is None else \"rdkit=={}\".format(rdkit_version)])\n",
        "    logger.info(\"done\")\n",
        "\n",
        "    import rdkit\n",
        "    logger.info(\"rdkit-{} installation finished!\".format(rdkit.__version__))\n",
        "\n",
        "\n",
        "if __name__ == \"__main__\":\n",
        "    install()"
      ],
      "execution_count": 1,
      "outputs": [
        {
          "output_type": "stream",
          "text": [
            "add /root/miniconda/lib/python3.6/site-packages to PYTHONPATH\n",
            "python version: 3.6.9\n",
            "fetching installer from https://repo.continuum.io/miniconda/Miniconda3-latest-Linux-x86_64.sh\n",
            "done\n",
            "installing miniconda to /root/miniconda\n",
            "done\n",
            "installing rdkit\n",
            "done\n",
            "rdkit-2020.09.1 installation finished!\n"
          ],
          "name": "stderr"
        }
      ]
    },
    {
      "cell_type": "code",
      "metadata": {
        "id": "0F510HBNbGA7",
        "colab": {
          "base_uri": "https://localhost:8080/"
        },
        "outputId": "681df713-d26a-485f-fec1-0eb5989c412a"
      },
      "source": [
        "from google.colab import drive\n",
        "drive.mount(\"/content/drive/\")"
      ],
      "execution_count": 2,
      "outputs": [
        {
          "output_type": "stream",
          "text": [
            "Mounted at /content/drive/\n"
          ],
          "name": "stdout"
        }
      ]
    },
    {
      "cell_type": "code",
      "metadata": {
        "id": "PG5guXisbJ4t"
      },
      "source": [
        "!cp -r \"drive/My Drive/deepSIBA_pytorch/NGF\" /content\n",
        "!cp -r \"drive/My Drive/deepSIBA_pytorch/NGF_layers\" /content\n",
        "!cp -r \"drive/My Drive/deepSIBA_pytorch/utility\" /content\n",
        "!cp -r \"drive/My Drive/deepSIBA_pytorch/utils\" /content\n",
        "!cp -r \"drive/My Drive/deepsiba_tf2/data\" /content\n",
        "!cp \"drive/My Drive/deepSIBA_pytorch/deepSIBA_model.py\" /content"
      ],
      "execution_count": 3,
      "outputs": []
    },
    {
      "cell_type": "code",
      "metadata": {
        "id": "5elLBIKsmeUZ"
      },
      "source": [
        "#!rm -r NGF_layers\n",
        "#!rm -r utility\n",
        "#!rm -r utils\n",
        "#!rm -r data\n",
        "#!rm deepSIBA_model.py"
      ],
      "execution_count": 4,
      "outputs": []
    },
    {
      "cell_type": "code",
      "metadata": {
        "id": "POgMJkNybKwp"
      },
      "source": [
        "import torch\n",
        "import torch.nn.functional as F\n",
        "import torch.nn as nn\n",
        "from torch.utils.data import Dataset\n",
        "from torch.utils.data import DataLoader\n",
        "import numpy as np\n",
        "from numpy import inf, ndarray\n",
        "import pandas as pd\n",
        "import os\n",
        "import random\n",
        "import sklearn\n",
        "import re\n",
        "#from NGF.utils import filter_func_args, mol_shapes_to_dims\n",
        "#import NGF.utils\n",
        "import NGF_layers.features\n",
        "import NGF_layers.graph_layers\n",
        "from NGF_layers.features import one_of_k_encoding, one_of_k_encoding_unk, atom_features, bond_features, num_atom_features, num_bond_features, padaxis, tensorise_smiles #, concat_mol_tensors\n",
        "from NGF_layers.graph_layers import temporal_padding, neighbour_lookup, NeuralGraphHidden\n",
        "from math import ceil\n",
        "from sklearn.metrics import mean_squared_error\n",
        "from utility.gaussian import GaussianLayer, custom_loss, ConGaussianLayer\n",
        "from utility.evaluator import r_square, get_cindex, pearson_r,custom_mse, mse_sliced, model_evaluate\n",
        "from utility.Generator import train_generator,preds_generator\n",
        "from deepSIBA_model import enc_graph, siamese_model\n",
        "from pathlib import Path\n",
        "from matplotlib import pyplot as plt\n",
        "from tqdm.auto import tqdm\n",
        "import seaborn as sns\n",
        "sns.set()"
      ],
      "execution_count": 5,
      "outputs": []
    },
    {
      "cell_type": "markdown",
      "metadata": {
        "id": "dNToVljcbglb"
      },
      "source": [
        "# Load train and model parameters"
      ]
    },
    {
      "cell_type": "code",
      "metadata": {
        "id": "BAVULcElbbVX"
      },
      "source": [
        "#model_params\n",
        "model_params = {\n",
        "    \"max_atoms\" : int(60), \"num_atom_features\" : int(62), \"max_degree\" : int(5), \"num_bond_features\" : int(6),\n",
        "    \"graph_conv_width\" : [128,128,128], \"conv1d_in\" : int(60), \"conv1d_out\" : int(32), \"kernel_size\" : int(1), \"dropout_encoder\" : 0.25,\n",
        "    \"conv1d_dist_in\" : [32,16], \"conv1d_dist_out\" : [16,16], \"conv1d_dist_kernels\" : [1,1], \"dropout_dist\" : 0.25, \"pool_size\" : int(4),\n",
        "    \"dense_size\" : [256,128,128], \"l2reg\" : 0.01, \"dist_thresh\" : 0.2, \"lr\" : 0.001 ,\"ConGauss\": False\n",
        "}"
      ],
      "execution_count": 6,
      "outputs": []
    },
    {
      "cell_type": "code",
      "metadata": {
        "id": "Sr32VyDYbi4A"
      },
      "source": [
        "train_params = {\n",
        "    \"cell_line\" : \"a375\", \"split\" : \"train_test_split\", \"number_folds\" : [0],\n",
        "    \"output_dir\" : \"results\",\n",
        "    \"batch_size\" : int(128), \"epochs\" : int(20), \n",
        "    \"N_ensemble\" : int(1), \"nmodel_start\" : int(0), \"prec_threshold\" : 0.2,\n",
        "    \"Pre_training\" : False,\n",
        "    \"Pre_trained_cell_dir\" : '',\n",
        "    \"pattern_to_load\" : 'siam_no_augment_',\n",
        "    \"model_id_to_load\" : \"20\",\n",
        "    \"test_value_norm\" : True,\n",
        "    \"predict_batch_size\":int(2048)\n",
        "}"
      ],
      "execution_count": 7,
      "outputs": []
    },
    {
      "cell_type": "markdown",
      "metadata": {
        "id": "O2Dn8Ckqbnw-"
      },
      "source": [
        "# Load data"
      ]
    },
    {
      "cell_type": "code",
      "metadata": {
        "id": "uzqITRqFbklm"
      },
      "source": [
        "get_all = []\n",
        "if train_params[\"split\"] == \"train_test_split\":\n",
        "  outer_loop = train_params[\"number_folds\"]\n",
        "elif train_params[\"split\"] == \"5_fold_cv_split\":\n",
        "  outer_loop = train_params[\"number_folds\"]\n",
        "elif train_params[\"split\"] == \"alldata\":\n",
        "  outer_loop = train_params[\"number_folds\"]\n",
        "#Load unique smiles and tensorize them\n",
        "smiles = pd.read_csv(\"data/\" + train_params[\"cell_line\"] + \"/\" + train_params[\"cell_line\"] + \"q1smiles.csv\", index_col=0)\n",
        "X_atoms, X_bonds, X_edges = tensorise_smiles(smiles.x, model_params[\"max_degree\"], model_params[\"max_atoms\"])\n",
        "smiles=list(smiles['x'])"
      ],
      "execution_count": 8,
      "outputs": []
    },
    {
      "cell_type": "code",
      "metadata": {
        "id": "vZHg9So9brV9"
      },
      "source": [
        "df = pd.read_csv(\"data/\" + train_params[\"cell_line\"] + \"/\" + \"train_test_split/\" + \"train.csv\",index_col=0).reset_index(drop=True)\n",
        "df_cold = pd.read_csv(\"data/\" + train_params[\"cell_line\"] + \"/\" + \"train_test_split/\" + \"test.csv\",index_col=0).reset_index(drop=True)\n",
        "smiles_cold = list(set(list(df_cold['rdkit.x'])+list(df_cold['rdkit.y'])))\n",
        "X_atoms_cold, X_bonds_cold, X_edges_cold = tensorise_smiles(smiles_cold,  model_params[\"max_degree\"], model_params[\"max_atoms\"])\n",
        "#X_atoms_cold=X_atoms_cold.astype('float64')\n",
        "#X_bonds_cold=X_bonds_cold.astype('float64')\n",
        "#X_edges_cold=X_edges_cold.astype('int64')\n",
        "if train_params[\"test_value_norm\"]:\n",
        "  Y_cold = df_cold.value\n",
        "else:\n",
        "  Y_cold = df_cold.value\n",
        "  Y_cold = Y_cold/2"
      ],
      "execution_count": 9,
      "outputs": []
    },
    {
      "cell_type": "code",
      "metadata": {
        "id": "Zi-Nsmo4btqZ"
      },
      "source": [
        "i=0\n",
        "Path(train_params[\"output_dir\"] + \"/\" + \"fold_%s/models\"%i).mkdir(parents=True, exist_ok=True)\n",
        "cold_preds_mus = []\n",
        "cold_preds_sigmas = []\n",
        "n = train_params[\"nmodel_start\"]"
      ],
      "execution_count": 10,
      "outputs": []
    },
    {
      "cell_type": "markdown",
      "metadata": {
        "id": "VWnFEBkmbyVa"
      },
      "source": [
        "# Define,Compile,Train model"
      ]
    },
    {
      "cell_type": "code",
      "metadata": {
        "id": "paXMLg2-bvyd"
      },
      "source": [
        "deepsiba = siamese_model(model_params)"
      ],
      "execution_count": 11,
      "outputs": []
    },
    {
      "cell_type": "code",
      "metadata": {
        "colab": {
          "base_uri": "https://localhost:8080/"
        },
        "id": "C-iVqiwjwk0T",
        "outputId": "5ad5c210-e2e3-460e-932b-ac4e77a83171"
      },
      "source": [
        "def get_default_device():\n",
        "  if torch.cuda.is_available():\n",
        "    print('cuda mode')\n",
        "    return torch.device('cuda')\n",
        "  else:\n",
        "    print('cpu mode')\n",
        "  return torch.device('cpu')\n",
        "device=get_default_device()"
      ],
      "execution_count": 12,
      "outputs": [
        {
          "output_type": "stream",
          "text": [
            "cuda mode\n"
          ],
          "name": "stdout"
        }
      ]
    },
    {
      "cell_type": "code",
      "metadata": {
        "id": "ooinemLwxJbf"
      },
      "source": [
        "def to_device(data,device):\n",
        "  if isinstance(data,(list,tuple)):\n",
        "    return [to_device(x,device) for x in data]\n",
        "  return data.to(device)"
      ],
      "execution_count": 13,
      "outputs": []
    },
    {
      "cell_type": "code",
      "metadata": {
        "id": "3S4VhB7fwDrD"
      },
      "source": [
        "class train_generator(Dataset):\n",
        "\n",
        "  def __init__(self, data,smiles,X_atoms, X_bonds, X_edges):\n",
        "    self.df=data\n",
        "    self.smiles=smiles\n",
        "    self.X_atoms=X_atoms\n",
        "    self.X_bonds=X_bonds\n",
        "    self.X_edges=X_edges\n",
        "    \n",
        "  def __len__(self):\n",
        "    return len(self.df)\n",
        "\n",
        "  def __getitem__(self, index):\n",
        "    smi1=self.df['rdkit.x'][index]\n",
        "    smi2=self.df['rdkit.y'][index]\n",
        "    d=self.df.value[index]/2\n",
        "    ind1=self.smiles.index(smi1)\n",
        "    ind2=self.smiles.index(smi2)\n",
        "    atom_1=torch.tensor(X_atoms[ind1]).type(torch.FloatTensor)\n",
        "    bond_1=torch.tensor(X_bonds[ind1]).type(torch.FloatTensor)\n",
        "    edge_1=torch.tensor(X_edges[ind1]).type(torch.IntTensor)\n",
        "    atom_2=torch.tensor(X_atoms[ind2]).type(torch.FloatTensor)\n",
        "    bond_2=torch.tensor(X_bonds[ind2]).type(torch.FloatTensor)\n",
        "    edge_2=torch.tensor(X_edges[ind2]).type(torch.IntTensor)\n",
        "    return atom_1,bond_1,edge_1,atom_2,bond_2,edge_2,torch.tensor(d).type(torch.FloatTensor)"
      ],
      "execution_count": 14,
      "outputs": []
    },
    {
      "cell_type": "code",
      "metadata": {
        "id": "YCq678ziwSCp"
      },
      "source": [
        "bs = train_params[\"batch_size\"]\n",
        "NUM_EPOCHS = train_params[\"epochs\"]\n",
        "df = df.sample(frac=1).reset_index(drop=True)\n",
        "NUM_TRAIN = len(df)\n",
        "NUM_STEPS=ceil(NUM_TRAIN/bs)\n",
        "trainGen=train_generator(df,smiles,X_atoms, X_bonds, X_edges)"
      ],
      "execution_count": 15,
      "outputs": []
    },
    {
      "cell_type": "code",
      "metadata": {
        "id": "pqStCk3Gx0Gt"
      },
      "source": [
        "#num_workers=12 mporei na mpei ki ayto sto DataLoader\n",
        "train_loader = DataLoader(trainGen,\n",
        "                          batch_size=bs,\n",
        "                          shuffle=True)"
      ],
      "execution_count": 16,
      "outputs": []
    },
    {
      "cell_type": "code",
      "metadata": {
        "id": "Ycamff-fylZu"
      },
      "source": [
        "class DeviceDataLoader():\n",
        "  def __init__(self,dl,device):\n",
        "    self.dl=dl\n",
        "    self.device=device\n",
        "  def __iter__(self):\n",
        "    for b in self.dl:\n",
        "      yield to_device(b,self.device)\n",
        "\n",
        "  def __len__(self):\n",
        "    \"\"\"Number of batches\"\"\"\n",
        "    return len(self.dl)"
      ],
      "execution_count": 17,
      "outputs": []
    },
    {
      "cell_type": "code",
      "metadata": {
        "id": "yzhetbkDzcHg"
      },
      "source": [
        "train_loader=DeviceDataLoader(train_loader,device)"
      ],
      "execution_count": 18,
      "outputs": []
    },
    {
      "cell_type": "code",
      "metadata": {
        "id": "bulwFm2-b6cF"
      },
      "source": [
        "deepsiba=deepsiba.to(device)"
      ],
      "execution_count": 19,
      "outputs": []
    },
    {
      "cell_type": "code",
      "metadata": {
        "id": "RxRLCNtNzkAx"
      },
      "source": [
        "adam = torch.optim.Adam(deepsiba.parameters(),lr=model_params[\"lr\"])"
      ],
      "execution_count": 20,
      "outputs": []
    },
    {
      "cell_type": "code",
      "metadata": {
        "id": "Kz85rEr60TgQ"
      },
      "source": [
        "def train(epoch):\n",
        "  deepsiba.train()\n",
        "  for atom1,bond1,edge1,atom2,bond2,edge2,y_true in train_data_iterator:\n",
        "    #print(len(tb))\n",
        "    #tb = tb.to(dev)\n",
        "    adam.zero_grad()\n",
        "    \n",
        "    y_pred = deepsiba(atom1,bond1,edge1,atom2,bond2,edge2)\n",
        "    loss = custom_loss(y_true,y_pred)\n",
        "    r=r_square(y_true,y_pred)\n",
        "    pear=pearson_r(y_true,y_pred)\n",
        "    mse=custom_mse(y_true,y_pred)\n",
        "    mse_similars=mse_sliced(y_true,y_pred,0.2)\n",
        "    cindex=get_cindex(y_true,y_pred)\n",
        "    \n",
        "    train_data_iterator.set_postfix(\n",
        "        Epoch=epoch + 1,\n",
        "        r2='%.4f' % float(r),\n",
        "        pearson='%.4f' % float(pear),\n",
        "        Cindex='%.4f' % float(cindex),\n",
        "        Loss='%.4f' % float(loss.item()))\n",
        "    loss.backward(retain_graph=True)\n",
        "    #torch.nn.utils.clip_grad_norm_(model.encoder.emb_layer.parameters(), 0.05)\n",
        "    adam.step()\n",
        "    \n",
        "    #del tb"
      ],
      "execution_count": 25,
      "outputs": []
    },
    {
      "cell_type": "code",
      "metadata": {
        "id": "r8z_5blR1Md-",
        "colab": {
          "base_uri": "https://localhost:8080/",
          "height": 49,
          "referenced_widgets": [
            "6296e1fc0f164f31965a13c96e599105",
            "2e81b16a92bb49519f74f13acd35ccba",
            "6d844bee065f4dbab80c9e4573219ff8",
            "d1f551ab743c4fd38c2f5135262c92bd",
            "2f3c4a9360aa4ac6bf40bf5318af50d2",
            "7de17170a159437594da147733628554",
            "df67cc8bec734fe788fe059bd1080fa9",
            "c4b4a8c3e5a2448eb5d159f4bb5152b1"
          ]
        },
        "outputId": "6729e7dc-0dab-4b0c-e09d-d0a4dfba1d3f"
      },
      "source": [
        "for epoch in range(NUM_EPOCHS):\n",
        "  train_data_iterator = tqdm(train_loader,\n",
        "                             leave=True,\n",
        "                             unit='batch',\n",
        "                             postfix={\n",
        "                                 'Epoch': epoch + 1,\n",
        "                                 'r2':'%.4f' % float(\"NaN\"),\n",
        "                                 'pearson':'%.4f' % float(\"NaN\"),\n",
        "                                 'Cindex':'%.4f' % float(\"NaN\"),\n",
        "                                 'Loss': '%.4f' % float(\"NaN\")})\n",
        "  train(epoch)"
      ],
      "execution_count": null,
      "outputs": [
        {
          "output_type": "display_data",
          "data": {
            "application/vnd.jupyter.widget-view+json": {
              "model_id": "6296e1fc0f164f31965a13c96e599105",
              "version_minor": 0,
              "version_major": 2
            },
            "text/plain": [
              "HBox(children=(FloatProgress(value=0.0, max=1367.0), HTML(value='')))"
            ]
          },
          "metadata": {
            "tags": []
          }
        }
      ]
    },
    {
      "cell_type": "code",
      "metadata": {
        "id": "IV5gFTkV2SmP"
      },
      "source": [
        ""
      ],
      "execution_count": null,
      "outputs": []
    }
  ]
}