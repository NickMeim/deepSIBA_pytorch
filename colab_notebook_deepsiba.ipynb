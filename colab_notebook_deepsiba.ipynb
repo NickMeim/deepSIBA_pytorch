{
 "cells": [
  {
   "cell_type": "markdown",
   "metadata": {
    "id": "0uUL-XLIbDwK"
   },
   "source": [
    "# Load dependencies"
   ]
  },
  {
   "cell_type": "code",
   "execution_count": 1,
   "metadata": {
    "colab": {
     "base_uri": "https://localhost:8080/"
    },
    "id": "HPFWQDo-a-yV",
    "outputId": "19d87ed9-18c3-463c-c1ec-f31bdb2cc2ce"
   },
   "outputs": [
    {
     "name": "stderr",
     "output_type": "stream",
     "text": [
      "add /root/miniconda/lib/python3.6/site-packages to PYTHONPATH\n",
      "python version: 3.6.9\n",
      "fetching installer from https://repo.continuum.io/miniconda/Miniconda3-latest-Linux-x86_64.sh\n",
      "done\n",
      "installing miniconda to /root/miniconda\n",
      "done\n",
      "installing rdkit\n",
      "done\n",
      "rdkit-2020.09.1 installation finished!\n"
     ]
    }
   ],
   "source": [
    "import sys\n",
    "import os\n",
    "import requests\n",
    "import subprocess\n",
    "import shutil\n",
    "from logging import getLogger, StreamHandler, INFO\n",
    "\n",
    "\n",
    "logger = getLogger(__name__)\n",
    "logger.addHandler(StreamHandler())\n",
    "logger.setLevel(INFO)\n",
    "\n",
    "\n",
    "def install(\n",
    "        chunk_size=4096,\n",
    "        file_name=\"Miniconda3-latest-Linux-x86_64.sh\",\n",
    "        url_base=\"https://repo.continuum.io/miniconda/\",\n",
    "        conda_path=os.path.expanduser(os.path.join(\"~\", \"miniconda\")),\n",
    "        rdkit_version=None,\n",
    "        add_python_path=True,\n",
    "        force=False):\n",
    "    \"\"\"install rdkit from miniconda\n",
    "    ```\n",
    "    import rdkit_installer\n",
    "    rdkit_installer.install()\n",
    "    ```\n",
    "    \"\"\"\n",
    "\n",
    "    python_path = os.path.join(\n",
    "        conda_path,\n",
    "        \"lib\",\n",
    "        \"python{0}.{1}\".format(*sys.version_info),\n",
    "        \"site-packages\",\n",
    "    )\n",
    "\n",
    "    if add_python_path and python_path not in sys.path:\n",
    "        logger.info(\"add {} to PYTHONPATH\".format(python_path))\n",
    "        sys.path.append(python_path)\n",
    "\n",
    "    if os.path.isdir(os.path.join(python_path, \"rdkit\")):\n",
    "        logger.info(\"rdkit is already installed\")\n",
    "        if not force:\n",
    "            return\n",
    "\n",
    "        logger.info(\"force re-install\")\n",
    "\n",
    "    url = url_base + file_name\n",
    "    python_version = \"{0}.{1}.{2}\".format(*sys.version_info)\n",
    "\n",
    "    logger.info(\"python version: {}\".format(python_version))\n",
    "\n",
    "    if os.path.isdir(conda_path):\n",
    "        logger.warning(\"remove current miniconda\")\n",
    "        shutil.rmtree(conda_path)\n",
    "    elif os.path.isfile(conda_path):\n",
    "        logger.warning(\"remove {}\".format(conda_path))\n",
    "        os.remove(conda_path)\n",
    "\n",
    "    logger.info('fetching installer from {}'.format(url))\n",
    "    res = requests.get(url, stream=True)\n",
    "    res.raise_for_status()\n",
    "    with open(file_name, 'wb') as f:\n",
    "        for chunk in res.iter_content(chunk_size):\n",
    "            f.write(chunk)\n",
    "    logger.info('done')\n",
    "\n",
    "    logger.info('installing miniconda to {}'.format(conda_path))\n",
    "    subprocess.check_call([\"bash\", file_name, \"-b\", \"-p\", conda_path])\n",
    "    logger.info('done')\n",
    "\n",
    "    logger.info(\"installing rdkit\")\n",
    "    subprocess.check_call([\n",
    "        os.path.join(conda_path, \"bin\", \"conda\"),\n",
    "        \"install\",\n",
    "        \"--yes\",\n",
    "        \"-c\", \"rdkit\",\n",
    "        \"python=={}\".format(python_version),\n",
    "        \"rdkit\" if rdkit_version is None else \"rdkit=={}\".format(rdkit_version)])\n",
    "    logger.info(\"done\")\n",
    "\n",
    "    import rdkit\n",
    "    logger.info(\"rdkit-{} installation finished!\".format(rdkit.__version__))\n",
    "\n",
    "\n",
    "if __name__ == \"__main__\":\n",
    "    install()"
   ]
  },
  {
   "cell_type": "code",
   "execution_count": 2,
   "metadata": {
    "colab": {
     "base_uri": "https://localhost:8080/"
    },
    "id": "0F510HBNbGA7",
    "outputId": "7056233d-22f2-4162-d760-1f45872d98e5"
   },
   "outputs": [
    {
     "name": "stdout",
     "output_type": "stream",
     "text": [
      "Mounted at /content/drive/\n"
     ]
    }
   ],
   "source": [
    "from google.colab import drive\n",
    "drive.mount(\"/content/drive/\")"
   ]
  },
  {
   "cell_type": "code",
   "execution_count": 3,
   "metadata": {
    "id": "PG5guXisbJ4t"
   },
   "outputs": [],
   "source": [
    "!cp -r \"drive/My Drive/deepSIBA_pytorch/NGF\" /content\n",
    "!cp -r \"drive/My Drive/deepSIBA_pytorch/NGF_layers\" /content\n",
    "!cp -r \"drive/My Drive/deepSIBA_pytorch/utility\" /content\n",
    "!cp -r \"drive/My Drive/deepSIBA_pytorch/utils\" /content\n",
    "!cp -r \"drive/My Drive/deepsiba_tf2/data\" /content\n",
    "!cp \"drive/My Drive/deepSIBA_pytorch/deepSIBA_model.py\" /content"
   ]
  },
  {
   "cell_type": "code",
   "execution_count": 4,
   "metadata": {
    "id": "5elLBIKsmeUZ"
   },
   "outputs": [],
   "source": [
    "!rm -r NGF_layers\n",
    "!cp -r \"drive/My Drive/deepSIBA_pytorch/NGF_layers\" /content"
   ]
  },
  {
   "cell_type": "code",
   "execution_count": 5,
   "metadata": {
    "id": "POgMJkNybKwp"
   },
   "outputs": [],
   "source": [
    "import torch\n",
    "import torch.nn.functional as F\n",
    "import torch.nn as nn\n",
    "import numpy as np\n",
    "from numpy import inf, ndarray\n",
    "import pandas as pd\n",
    "import os\n",
    "import random\n",
    "import sklearn\n",
    "import re\n",
    "#from NGF.utils import filter_func_args, mol_shapes_to_dims\n",
    "#import NGF.utils\n",
    "import NGF_layers.features\n",
    "import NGF_layers.graph_layers\n",
    "from NGF_layers.features import one_of_k_encoding, one_of_k_encoding_unk, atom_features, bond_features, num_atom_features, num_bond_features, padaxis, tensorise_smiles #, concat_mol_tensors\n",
    "from NGF_layers.graph_layers import temporal_padding, neighbour_lookup, NeuralGraphHidden\n",
    "from math import ceil\n",
    "from sklearn.metrics import mean_squared_error\n",
    "from utility.gaussian import GaussianLayer, custom_loss, ConGaussianLayer\n",
    "from utility.evaluator import r_square, get_cindex, pearson_r,custom_mse, mse_sliced, model_evaluate\n",
    "from utility.Generator import train_generator,preds_generator\n",
    "from deepSIBA_model import enc_graph, siamese_model\n",
    "from pathlib import Path\n",
    "from matplotlib import pyplot as plt\n",
    "import seaborn as sns\n",
    "sns.set()"
   ]
  },
  {
   "cell_type": "markdown",
   "metadata": {
    "id": "dNToVljcbglb"
   },
   "source": [
    "# Load train and model parameters"
   ]
  },
  {
   "cell_type": "code",
   "execution_count": 6,
   "metadata": {
    "id": "BAVULcElbbVX"
   },
   "outputs": [],
   "source": [
    "#model_params\n",
    "model_params = {\n",
    "    \"max_atoms\" : int(60), \"num_atom_features\" : int(62), \"max_degree\" : int(5), \"num_bond_features\" : int(6),\n",
    "    \"graph_conv_width\" : [128,128,128], \"conv1d_in\" : int(60), \"conv1d_out\" : int(32), \"kernel_size\" : int(1), \"dropout_encoder\" : 0.25,\n",
    "    \"conv1d_dist_in\" : [32,16], \"conv1d_dist_out\" : [16,16], \"conv1d_dist_kernels\" : [1,1], \"dropout_dist\" : 0.25, \"pool_size\" : int(4),\n",
    "    \"dense_size\" : [256,128,128], \"l2reg\" : 0.01, \"dist_thresh\" : 0.2, \"lr\" : 0.001 ,\"ConGauss\": False\n",
    "}"
   ]
  },
  {
   "cell_type": "code",
   "execution_count": 7,
   "metadata": {
    "id": "Sr32VyDYbi4A"
   },
   "outputs": [],
   "source": [
    "train_params = {\n",
    "    \"cell_line\" : \"a375\", \"split\" : \"train_test_split\", \"number_folds\" : [0],\n",
    "    \"output_dir\" : \"results\",\n",
    "    \"batch_size\" : int(128), \"epochs\" : int(20), \n",
    "    \"N_ensemble\" : int(1), \"nmodel_start\" : int(0), \"prec_threshold\" : 0.2,\n",
    "    \"Pre_training\" : False,\n",
    "    \"Pre_trained_cell_dir\" : '',\n",
    "    \"pattern_to_load\" : 'siam_no_augment_',\n",
    "    \"model_id_to_load\" : \"20\",\n",
    "    \"test_value_norm\" : True,\n",
    "    \"predict_batch_size\":int(2048)\n",
    "}"
   ]
  },
  {
   "cell_type": "markdown",
   "metadata": {
    "id": "O2Dn8Ckqbnw-"
   },
   "source": [
    "# Load data"
   ]
  },
  {
   "cell_type": "code",
   "execution_count": 8,
   "metadata": {
    "id": "uzqITRqFbklm"
   },
   "outputs": [],
   "source": [
    "get_all = []\n",
    "if train_params[\"split\"] == \"train_test_split\":\n",
    "  outer_loop = train_params[\"number_folds\"]\n",
    "elif train_params[\"split\"] == \"5_fold_cv_split\":\n",
    "  outer_loop = train_params[\"number_folds\"]\n",
    "elif train_params[\"split\"] == \"alldata\":\n",
    "  outer_loop = train_params[\"number_folds\"]\n",
    "#Load unique smiles and tensorize them\n",
    "smiles = pd.read_csv(\"data/\" + train_params[\"cell_line\"] + \"/\" + train_params[\"cell_line\"] + \"q1smiles.csv\", index_col=0)\n",
    "X_atoms, X_bonds, X_edges = tensorise_smiles(smiles.x, model_params[\"max_degree\"], model_params[\"max_atoms\"])\n",
    "smiles=list(smiles['x'])"
   ]
  },
  {
   "cell_type": "code",
   "execution_count": 9,
   "metadata": {
    "id": "vZHg9So9brV9"
   },
   "outputs": [],
   "source": [
    "df = pd.read_csv(\"data/\" + train_params[\"cell_line\"] + \"/\" + \"train_test_split/\" + \"train.csv\",index_col=0).reset_index(drop=True)\n",
    "df_cold = pd.read_csv(\"data/\" + train_params[\"cell_line\"] + \"/\" + \"train_test_split/\" + \"test.csv\",index_col=0).reset_index(drop=True)\n",
    "smiles_cold = list(set(list(df_cold['rdkit.x'])+list(df_cold['rdkit.y'])))\n",
    "X_atoms_cold, X_bonds_cold, X_edges_cold = tensorise_smiles(smiles_cold,  model_params[\"max_degree\"], model_params[\"max_atoms\"])\n",
    "#X_atoms_cold=X_atoms_cold.astype('float64')\n",
    "#X_bonds_cold=X_bonds_cold.astype('float64')\n",
    "#X_edges_cold=X_edges_cold.astype('int64')\n",
    "if train_params[\"test_value_norm\"]:\n",
    "  Y_cold = df_cold.value\n",
    "else:\n",
    "  Y_cold = df_cold.value\n",
    "  Y_cold = Y_cold/2"
   ]
  },
  {
   "cell_type": "code",
   "execution_count": 10,
   "metadata": {
    "id": "Zi-Nsmo4btqZ"
   },
   "outputs": [],
   "source": [
    "i=0\n",
    "Path(train_params[\"output_dir\"] + \"/\" + \"fold_%s/models\"%i).mkdir(parents=True, exist_ok=True)\n",
    "cold_preds_mus = []\n",
    "cold_preds_sigmas = []\n",
    "n = train_params[\"nmodel_start\"]"
   ]
  },
  {
   "cell_type": "markdown",
   "metadata": {
    "id": "VWnFEBkmbyVa"
   },
   "source": [
    "# Define,Compile,Train model"
   ]
  },
  {
   "cell_type": "code",
   "execution_count": 11,
   "metadata": {
    "id": "paXMLg2-bvyd"
   },
   "outputs": [],
   "source": [
    "deepsiba = siamese_model(model_params)"
   ]
  },
  {
   "cell_type": "code",
   "execution_count": 12,
   "metadata": {
    "id": "4zHjxz84bwKW"
   },
   "outputs": [],
   "source": [
    "device=torch.device('cuda')"
   ]
  },
  {
   "cell_type": "code",
   "execution_count": 13,
   "metadata": {
    "id": "bulwFm2-b6cF"
   },
   "outputs": [],
   "source": [
    "deepsiba=deepsiba.to(device)"
   ]
  },
  {
   "cell_type": "code",
   "execution_count": 14,
   "metadata": {
    "id": "TMQhh1vmlNzz"
   },
   "outputs": [],
   "source": [
    "#from torchvision import models\n",
    "#from torchsummary import summary"
   ]
  },
  {
   "cell_type": "code",
   "execution_count": 15,
   "metadata": {
    "id": "5OgKc7mg6U8Y"
   },
   "outputs": [],
   "source": [
    "atom1 = torch.tensor(X_atoms[0:3])\n",
    "bonds1 = torch.tensor(X_bonds[0:3])\n",
    "edges1 = torch.tensor(X_edges[0:3])"
   ]
  },
  {
   "cell_type": "code",
   "execution_count": 16,
   "metadata": {
    "id": "2hdFPzKiGLjJ"
   },
   "outputs": [],
   "source": [
    "atom2 = torch.tensor(X_atoms_cold[0:3])\n",
    "bonds2 = torch.tensor(X_bonds_cold[0:3])\n",
    "edges2 = torch.tensor(X_edges_cold[0:3])"
   ]
  },
  {
   "cell_type": "code",
   "execution_count": 17,
   "metadata": {
    "colab": {
     "base_uri": "https://localhost:8080/"
    },
    "id": "aUkIoCrUcLkB",
    "outputId": "aad071a5-ad2c-43fb-f4ae-48cef2045691"
   },
   "outputs": [
    {
     "name": "stdout",
     "output_type": "stream",
     "text": [
      "transfered to cuda\n"
     ]
    }
   ],
   "source": [
    "atom1=atom1.to(device)\n",
    "bonds1=bonds1.to(device)\n",
    "edges1=edges1.to(device)\n",
    "atom2=atom2.to(device)\n",
    "bonds2=bonds2.to(device)\n",
    "edges2=edges2.to(device)\n",
    "print('transfered to cuda')"
   ]
  },
  {
   "cell_type": "code",
   "execution_count": null,
   "metadata": {
    "colab": {
     "base_uri": "https://localhost:8080/",
     "height": 306
    },
    "id": "h_5ixyJy1r_D",
    "outputId": "ce773f48-2b60-416b-9df1-045756d0c001"
   },
   "outputs": [],
   "source": [
    "deepsiba(atom1,bonds1,edges1,atom2,bonds2,edges2)"
   ]
  }
 ],
 "metadata": {
  "accelerator": "GPU",
  "colab": {
   "collapsed_sections": [
    "0uUL-XLIbDwK",
    "dNToVljcbglb",
    "O2Dn8Ckqbnw-"
   ],
   "name": "deepsiba_torch.ipynb",
   "provenance": []
  },
  "kernelspec": {
   "display_name": "Python 3",
   "language": "python",
   "name": "python3"
  },
  "language_info": {
   "codemirror_mode": {
    "name": "ipython",
    "version": 3
   },
   "file_extension": ".py",
   "mimetype": "text/x-python",
   "name": "python",
   "nbconvert_exporter": "python",
   "pygments_lexer": "ipython3",
   "version": "3.7.6"
  }
 },
 "nbformat": 4,
 "nbformat_minor": 1
}
