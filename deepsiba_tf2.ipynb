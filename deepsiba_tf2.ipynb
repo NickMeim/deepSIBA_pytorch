{
  "nbformat": 4,
  "nbformat_minor": 0,
  "metadata": {
    "colab": {
      "name": "deepsiba_tf2.ipynb",
      "provenance": [],
      "collapsed_sections": [
        "qSXBi05PHqH3",
        "NG25eI5YIYCO",
        "LZqn8y9LJch6"
      ]
    },
    "kernelspec": {
      "name": "python3",
      "display_name": "Python 3"
    },
    "accelerator": "GPU"
  },
  "cells": [
    {
      "cell_type": "markdown",
      "metadata": {
        "id": "qSXBi05PHqH3"
      },
      "source": [
        "# Load dependencies"
      ]
    },
    {
      "cell_type": "code",
      "metadata": {
        "colab": {
          "base_uri": "https://localhost:8080/"
        },
        "id": "BZCFjAS6Hmva",
        "outputId": "1eaba7b7-a435-4486-a109-b7cc27dde5ae"
      },
      "source": [
        "import sys\n",
        "import os\n",
        "import requests\n",
        "import subprocess\n",
        "import shutil\n",
        "from logging import getLogger, StreamHandler, INFO\n",
        "\n",
        "\n",
        "logger = getLogger(__name__)\n",
        "logger.addHandler(StreamHandler())\n",
        "logger.setLevel(INFO)\n",
        "\n",
        "\n",
        "def install(\n",
        "        chunk_size=4096,\n",
        "        file_name=\"Miniconda3-latest-Linux-x86_64.sh\",\n",
        "        url_base=\"https://repo.continuum.io/miniconda/\",\n",
        "        conda_path=os.path.expanduser(os.path.join(\"~\", \"miniconda\")),\n",
        "        rdkit_version=None,\n",
        "        add_python_path=True,\n",
        "        force=False):\n",
        "    \"\"\"install rdkit from miniconda\n",
        "    ```\n",
        "    import rdkit_installer\n",
        "    rdkit_installer.install()\n",
        "    ```\n",
        "    \"\"\"\n",
        "\n",
        "    python_path = os.path.join(\n",
        "        conda_path,\n",
        "        \"lib\",\n",
        "        \"python{0}.{1}\".format(*sys.version_info),\n",
        "        \"site-packages\",\n",
        "    )\n",
        "\n",
        "    if add_python_path and python_path not in sys.path:\n",
        "        logger.info(\"add {} to PYTHONPATH\".format(python_path))\n",
        "        sys.path.append(python_path)\n",
        "\n",
        "    if os.path.isdir(os.path.join(python_path, \"rdkit\")):\n",
        "        logger.info(\"rdkit is already installed\")\n",
        "        if not force:\n",
        "            return\n",
        "\n",
        "        logger.info(\"force re-install\")\n",
        "\n",
        "    url = url_base + file_name\n",
        "    python_version = \"{0}.{1}.{2}\".format(*sys.version_info)\n",
        "\n",
        "    logger.info(\"python version: {}\".format(python_version))\n",
        "\n",
        "    if os.path.isdir(conda_path):\n",
        "        logger.warning(\"remove current miniconda\")\n",
        "        shutil.rmtree(conda_path)\n",
        "    elif os.path.isfile(conda_path):\n",
        "        logger.warning(\"remove {}\".format(conda_path))\n",
        "        os.remove(conda_path)\n",
        "\n",
        "    logger.info('fetching installer from {}'.format(url))\n",
        "    res = requests.get(url, stream=True)\n",
        "    res.raise_for_status()\n",
        "    with open(file_name, 'wb') as f:\n",
        "        for chunk in res.iter_content(chunk_size):\n",
        "            f.write(chunk)\n",
        "    logger.info('done')\n",
        "\n",
        "    logger.info('installing miniconda to {}'.format(conda_path))\n",
        "    subprocess.check_call([\"bash\", file_name, \"-b\", \"-p\", conda_path])\n",
        "    logger.info('done')\n",
        "\n",
        "    logger.info(\"installing rdkit\")\n",
        "    subprocess.check_call([\n",
        "        os.path.join(conda_path, \"bin\", \"conda\"),\n",
        "        \"install\",\n",
        "        \"--yes\",\n",
        "        \"-c\", \"rdkit\",\n",
        "        \"python=={}\".format(python_version),\n",
        "        \"rdkit\" if rdkit_version is None else \"rdkit=={}\".format(rdkit_version)])\n",
        "    logger.info(\"done\")\n",
        "\n",
        "    import rdkit\n",
        "    logger.info(\"rdkit-{} installation finished!\".format(rdkit.__version__))\n",
        "\n",
        "\n",
        "if __name__ == \"__main__\":\n",
        "    install()"
      ],
      "execution_count": 1,
      "outputs": [
        {
          "output_type": "stream",
          "text": [
            "add /root/miniconda/lib/python3.6/site-packages to PYTHONPATH\n",
            "python version: 3.6.9\n",
            "fetching installer from https://repo.continuum.io/miniconda/Miniconda3-latest-Linux-x86_64.sh\n",
            "done\n",
            "installing miniconda to /root/miniconda\n",
            "done\n",
            "installing rdkit\n",
            "done\n",
            "rdkit-2020.09.1 installation finished!\n"
          ],
          "name": "stderr"
        }
      ]
    },
    {
      "cell_type": "code",
      "metadata": {
        "colab": {
          "base_uri": "https://localhost:8080/"
        },
        "id": "N_ZBwH_HHwV8",
        "outputId": "2637349f-4037-4278-cb7f-e3b40ebb8da2"
      },
      "source": [
        "from google.colab import drive\n",
        "drive.mount(\"/content/drive/\")"
      ],
      "execution_count": 2,
      "outputs": [
        {
          "output_type": "stream",
          "text": [
            "Mounted at /content/drive/\n"
          ],
          "name": "stdout"
        }
      ]
    },
    {
      "cell_type": "code",
      "metadata": {
        "id": "kH80Mem2HyY_"
      },
      "source": [
        "!cp -r \"drive/My Drive/deepsiba_tf2/NGF\" /content\n",
        "!cp -r \"drive/My Drive/deepsiba_tf2/NGF_layers\" /content\n",
        "!cp -r \"drive/My Drive/deepsiba_tf2/utility\" /content\n",
        "!cp -r \"drive/My Drive/deepsiba_tf2/utils\" /content\n",
        "!cp -r \"drive/My Drive/deepsiba_tf2/data\" /content\n",
        "!cp \"drive/My Drive/deepsiba_tf2/deepSIBA_model.py\" /content"
      ],
      "execution_count": 3,
      "outputs": []
    },
    {
      "cell_type": "code",
      "metadata": {
        "id": "VbUNxb0HIQK7"
      },
      "source": [
        "from __future__ import division, print_function\n",
        "import numpy as np\n",
        "from numpy import inf, ndarray\n",
        "import pandas as pd\n",
        "import tensorflow as tf\n",
        "import os\n",
        "import random\n",
        "import keras\n",
        "import sklearn\n",
        "import re\n",
        "from keras import optimizers, losses, regularizers\n",
        "import keras.backend as K\n",
        "from keras.models import model_from_json, load_model, Model\n",
        "from tempfile import TemporaryFile\n",
        "from keras import layers\n",
        "from keras.callbacks import History, ReduceLROnPlateau\n",
        "from keras.layers import Input, BatchNormalization, Activation, Dense, Dropout, Layer\n",
        "from keras.initializers import glorot_normal\n",
        "from keras.regularizers import l2\n",
        "from functools import partial\n",
        "from multiprocessing import cpu_count, Pool\n",
        "from keras.utils.generic_utils import Progbar\n",
        "from copy import deepcopy\n",
        "from NGF.utils import filter_func_args, mol_shapes_to_dims\n",
        "import NGF.utils\n",
        "import NGF_layers.features\n",
        "import NGF_layers.graph_layers\n",
        "from NGF_layers.features import one_of_k_encoding, one_of_k_encoding_unk, atom_features, bond_features, num_atom_features, num_bond_features, padaxis, tensorise_smiles, concat_mol_tensors\n",
        "from NGF_layers.graph_layers import temporal_padding, neighbour_lookup, NeuralGraphHidden, NeuralGraphOutput\n",
        "from math import ceil\n",
        "from sklearn.metrics import mean_squared_error\n",
        "from utility.gaussian import GaussianLayer, custom_loss, ConGaussianLayer\n",
        "from utility.evaluator import r_square, get_cindex, pearson_r,custom_mse, mse_sliced, model_evaluate\n",
        "from utility.Generator import train_generator,preds_generator\n",
        "from deepSIBA_model import enc_graph, siamese_model, deepsiba_model\n",
        "from pathlib import Path\n",
        "from matplotlib import pyplot as plt\n",
        "import seaborn as sns\n",
        "sns.set()"
      ],
      "execution_count": 4,
      "outputs": []
    },
    {
      "cell_type": "code",
      "metadata": {
        "colab": {
          "base_uri": "https://localhost:8080/"
        },
        "id": "0AredUvpISK_",
        "outputId": "5c5307b8-06fc-4fdf-ee43-da9eb949805d"
      },
      "source": [
        "print(tf.__version__)"
      ],
      "execution_count": 5,
      "outputs": [
        {
          "output_type": "stream",
          "text": [
            "2.3.0\n"
          ],
          "name": "stdout"
        }
      ]
    },
    {
      "cell_type": "code",
      "metadata": {
        "colab": {
          "base_uri": "https://localhost:8080/"
        },
        "id": "1Uf93X-cIVoj",
        "outputId": "b3132025-53ef-4ca5-8f95-58303ba2dd6d"
      },
      "source": [
        "# Check available GPU devices.\n",
        "print(\"The following GPU devices are available: %s\" % tf.test.gpu_device_name())"
      ],
      "execution_count": 6,
      "outputs": [
        {
          "output_type": "stream",
          "text": [
            "The following GPU devices are available: /device:GPU:0\n"
          ],
          "name": "stdout"
        }
      ]
    },
    {
      "cell_type": "markdown",
      "metadata": {
        "id": "NG25eI5YIYCO"
      },
      "source": [
        "# Load train and model parameters"
      ]
    },
    {
      "cell_type": "code",
      "metadata": {
        "id": "s5kqf-WGIeD9"
      },
      "source": [
        "#model_params\n",
        "model_params = {\n",
        "    \"max_atoms\" : int(60), \"num_atom_features\" : int(62), \"max_degree\" : int(5), \"num_bond_features\" : int(6),\n",
        "    \"graph_conv_width\" : [128,128,128], \"conv1d_filters\" : int(128), \"conv1d_size\" : int(29), \"dropout_encoder\" : 0.25,\n",
        "    \"conv1d_filters_dist\" : [128,128], \"conv1d_size_dist\" : [17,1], \"dropout_dist\" : 0.25, \"pool_size\" : int(4),\n",
        "    \"dense_size\" : [256,128,128], \"l2reg\" : 0.01, \"dist_thresh\" : 0.2, \"lr\" : 0.001 ,\"ConGauss\": False\n",
        "}"
      ],
      "execution_count": 29,
      "outputs": []
    },
    {
      "cell_type": "code",
      "metadata": {
        "id": "z1aJiLrOIzVU"
      },
      "source": [
        "train_params = {\n",
        "    \"cell_line\" : \"a375\", \"split\" : \"train_test_split\", \"number_folds\" : [0],\n",
        "    \"output_dir\" : \"results\",\n",
        "    \"batch_size\" : int(128), \"epochs\" : int(20), \n",
        "    \"N_ensemble\" : int(1), \"nmodel_start\" : int(0), \"prec_threshold\" : 0.2,\n",
        "    \"Pre_training\" : False,\n",
        "    \"Pre_trained_cell_dir\" : '',\n",
        "    \"pattern_to_load\" : 'siam_no_augment_',\n",
        "    \"model_id_to_load\" : \"20\",\n",
        "    \"test_value_norm\" : True,\n",
        "    \"predict_batch_size\":int(2048)\n",
        "}"
      ],
      "execution_count": 8,
      "outputs": []
    },
    {
      "cell_type": "markdown",
      "metadata": {
        "id": "LZqn8y9LJch6"
      },
      "source": [
        "# Load data"
      ]
    },
    {
      "cell_type": "code",
      "metadata": {
        "id": "dDxWMcpaJd9-"
      },
      "source": [
        "get_all = []\n",
        "if train_params[\"split\"] == \"train_test_split\":\n",
        "  outer_loop = train_params[\"number_folds\"]\n",
        "elif train_params[\"split\"] == \"5_fold_cv_split\":\n",
        "  outer_loop = train_params[\"number_folds\"]\n",
        "elif train_params[\"split\"] == \"alldata\":\n",
        "  outer_loop = train_params[\"number_folds\"]\n",
        "#Load unique smiles and tensorize them\n",
        "smiles = pd.read_csv(\"data/\" + train_params[\"cell_line\"] + \"/\" + train_params[\"cell_line\"] + \"q1smiles.csv\", index_col=0)\n",
        "X_atoms, X_bonds, X_edges = tensorise_smiles(smiles.x, model_params[\"max_degree\"], model_params[\"max_atoms\"])\n",
        "smiles=list(smiles['x'])"
      ],
      "execution_count": 9,
      "outputs": []
    },
    {
      "cell_type": "code",
      "metadata": {
        "id": "yxG2vrf2LVp_"
      },
      "source": [
        "df = pd.read_csv(\"data/\" + train_params[\"cell_line\"] + \"/\" + \"train_test_split/\" + \"train.csv\",index_col=0).reset_index(drop=True)\n",
        "df_cold = pd.read_csv(\"data/\" + train_params[\"cell_line\"] + \"/\" + \"train_test_split/\" + \"test.csv\",index_col=0).reset_index(drop=True)\n",
        "smiles_cold = list(set(list(df_cold['rdkit.x'])+list(df_cold['rdkit.y'])))\n",
        "X_atoms_cold, X_bonds_cold, X_edges_cold = tensorise_smiles(smiles_cold,  model_params[\"max_degree\"], model_params[\"max_atoms\"])\n",
        "#X_atoms_cold=X_atoms_cold.astype('float64')\n",
        "#X_bonds_cold=X_bonds_cold.astype('float64')\n",
        "#X_edges_cold=X_edges_cold.astype('int64')\n",
        "if train_params[\"test_value_norm\"]:\n",
        "  Y_cold = df_cold.value\n",
        "else:\n",
        "  Y_cold = df_cold.value\n",
        "  Y_cold = Y_cold/2"
      ],
      "execution_count": 10,
      "outputs": []
    },
    {
      "cell_type": "code",
      "metadata": {
        "id": "1AmqfRYgL5Qm"
      },
      "source": [
        "i=0\n",
        "Path(train_params[\"output_dir\"] + \"/\" + \"fold_%s/models\"%i).mkdir(parents=True, exist_ok=True)\n",
        "cold_preds_mus = []\n",
        "cold_preds_sigmas = []\n",
        "n = train_params[\"nmodel_start\"]"
      ],
      "execution_count": 11,
      "outputs": []
    },
    {
      "cell_type": "markdown",
      "metadata": {
        "id": "qlhWtJOQM-mb"
      },
      "source": [
        "# Define,Compile,Train model"
      ]
    },
    {
      "cell_type": "code",
      "metadata": {
        "id": "YBpoOiUeM1E_"
      },
      "source": [
        "deepsiba = deepsiba_model(model_params)"
      ],
      "execution_count": 46,
      "outputs": []
    },
    {
      "cell_type": "code",
      "metadata": {
        "id": "yMYFy0oC4zdn"
      },
      "source": [
        "#atoms0_1 = Input(name='atom_inputs_1', shape=(model_params[\"max_atoms\"], model_params[\"num_atom_features\"]),dtype = 'float32')\n",
        "#bonds_1 = Input(name='bond_inputs_1', shape=(model_params[\"max_atoms\"], model_params[\"max_degree\"], model_params[\"num_bond_features\"]),dtype = 'float32')\n",
        "#edges_1 = Input(name='edge_inputs_1', shape=(model_params[\"max_atoms\"], model_params[\"max_degree\"]), dtype='int32')\n",
        "\n",
        "#atoms0_2 = Input(name='atom_inputs_2',shape=(model_params[\"max_atoms\"], model_params[\"num_atom_features\"]),dtype = 'float32')\n",
        "#bonds_2 = Input(name='bond_inputs_2',shape=(model_params[\"max_atoms\"], model_params[\"max_degree\"], model_params[\"num_bond_features\"]),dtype = 'float32')\n",
        "#edges_2 = Input(name='edge_inputs_2', shape=(model_params[\"max_atoms\"], model_params[\"max_degree\"]), dtype='int32')"
      ],
      "execution_count": 31,
      "outputs": []
    },
    {
      "cell_type": "code",
      "metadata": {
        "id": "9ACg0IKb1Ksd"
      },
      "source": [
        "#fake_out=deepsiba(atoms0_1,bonds_1,edges_1,atoms0_2,bonds_2,edges_2)"
      ],
      "execution_count": 32,
      "outputs": []
    },
    {
      "cell_type": "code",
      "metadata": {
        "colab": {
          "base_uri": "https://localhost:8080/"
        },
        "id": "Q8ndbzKs5q6X",
        "outputId": "fc521347-aeb2-4f8f-a3a8-d105a12df3e4"
      },
      "source": [
        "deepsiba.summary()"
      ],
      "execution_count": 33,
      "outputs": [
        {
          "output_type": "stream",
          "text": [
            "Model: \"functional_3\"\n",
            "__________________________________________________________________________________________________\n",
            "Layer (type)                    Output Shape         Param #     Connected to                     \n",
            "==================================================================================================\n",
            "atom_inputs_1 (InputLayer)      [(None, 60, 62)]     0                                            \n",
            "__________________________________________________________________________________________________\n",
            "bond_inputs_1 (InputLayer)      [(None, 60, 5, 6)]   0                                            \n",
            "__________________________________________________________________________________________________\n",
            "edge_inputs_1 (InputLayer)      [(None, 60, 5)]      0                                            \n",
            "__________________________________________________________________________________________________\n",
            "atom_inputs_2 (InputLayer)      [(None, 60, 62)]     0                                            \n",
            "__________________________________________________________________________________________________\n",
            "bond_inputs_2 (InputLayer)      [(None, 60, 5, 6)]   0                                            \n",
            "__________________________________________________________________________________________________\n",
            "edge_inputs_2 (InputLayer)      [(None, 60, 5)]      0                                            \n",
            "__________________________________________________________________________________________________\n",
            "siamese_model_1 (siamese_model) (None, 128)          1173376     atom_inputs_1[0][0]              \n",
            "                                                                 bond_inputs_1[0][0]              \n",
            "                                                                 edge_inputs_1[0][0]              \n",
            "                                                                 atom_inputs_2[0][0]              \n",
            "                                                                 bond_inputs_2[0][0]              \n",
            "                                                                 edge_inputs_2[0][0]              \n",
            "__________________________________________________________________________________________________\n",
            "main_output (ConGaussianLayer)  [(None, 1), (None, 1 258         siamese_model_1[0][0]            \n",
            "__________________________________________________________________________________________________\n",
            "concatenate_1 (Concatenate)     (None, 2)            0           main_output[0][0]                \n",
            "                                                                 main_output[0][1]                \n",
            "==================================================================================================\n",
            "Total params: 1,173,634\n",
            "Trainable params: 1,170,818\n",
            "Non-trainable params: 2,816\n",
            "__________________________________________________________________________________________________\n"
          ],
          "name": "stdout"
        }
      ]
    },
    {
      "cell_type": "code",
      "metadata": {
        "id": "gH7h7yTRraIs"
      },
      "source": [
        "#for i, w in enumerate(deepsiba.weights): print(i, w.name)"
      ],
      "execution_count": 34,
      "outputs": []
    },
    {
      "cell_type": "code",
      "metadata": {
        "id": "Z26gmiJ_QNW7"
      },
      "source": [
        "if train_params[\"Pre_training\"]:\n",
        "  weight_path=train_params[\"Pre_trained_cell_dir\"]+\"/\"+train_params[\"pattern_to_load\"]+train_params[\"model_id_to_load\"]+\".h5\"\n",
        "  deepsiba.load_weights(weight_path)"
      ],
      "execution_count": 35,
      "outputs": []
    },
    {
      "cell_type": "code",
      "metadata": {
        "id": "TeVR6VZoQm2N"
      },
      "source": [
        "rlr = ReduceLROnPlateau(monitor='loss', factor=0.5,patience=3, min_lr=0.00001, verbose=1, min_delta=1e-5)\n",
        "term=keras.callbacks.TerminateOnNaN()\n",
        "bs = train_params[\"batch_size\"]\n",
        "NUM_EPOCHS = train_params[\"epochs\"]\n",
        "df = df.sample(frac=1).reset_index(drop=True)\n",
        "NUM_TRAIN = len(df)\n",
        "NUM_STEPS=ceil(NUM_TRAIN/bs)\n",
        "trainGen=train_generator(bs,df,smiles,X_atoms, X_bonds, X_edges)\n",
        "check = NUM_EPOCHS-1"
      ],
      "execution_count": 36,
      "outputs": []
    },
    {
      "cell_type": "code",
      "metadata": {
        "id": "Ltfff9wiQukv"
      },
      "source": [
        "#@tf.function\n",
        "#def train_step(atom_1,bond_1,edge_1,atom_2,bond_2,edge_2,y):\n",
        "#  with tf.GradientTape() as tape:\n",
        "#    # training=True is only needed if there are layers with different\n",
        "#    # behavior during training versus inference (e.g. Dropout)\n",
        "#    predictions = deepsiba(atom_1,bond_1,edge_1,atom_2,bond_2,edge_2, training=True)\n",
        "#    loss = custom_loss(y, predictions)\n",
        "#  gradients = tape.gradient(loss, deepsiba.trainable_variables)\n",
        "#  adam.apply_gradients(zip(gradients, deepsiba.trainable_variables))\n",
        "#  train_loss(loss)"
      ],
      "execution_count": 37,
      "outputs": []
    },
    {
      "cell_type": "code",
      "metadata": {
        "id": "EEBeaXGvT5bD"
      },
      "source": [
        "#lp=round(NUM_STEPS*0.1)\n",
        "#lp"
      ],
      "execution_count": 38,
      "outputs": []
    },
    {
      "cell_type": "code",
      "metadata": {
        "id": "52SkPNeKQ-7N"
      },
      "source": [
        "#cn=0\n",
        "#for epoch in range(NUM_EPOCHS):\n",
        "#  train_loss.reset_states()\n",
        "#  #train_accuracy.reset_states()\n",
        "#  for step in range(NUM_STEPS):\n",
        "#    Xatom_1,Xbond_1,Xedge_1,Xatom_2,Xbond_2,Xedge_2,y = list(next(trainGen))\n",
        "#    train_step(Xatom_1,Xbond_1,Xedge_1,Xatom_2,Xbond_2,Xedge_2,y)\n",
        "#    if (step%lp==0):\n",
        "#      cn+=1\n",
        "#      if (epoch==0):\n",
        "#        sys.stdout.write(\"\\r\"+\"Epoch \"+str(epoch + 1)+\": \"+\"Steps: \"+str(step+1)+\"/\"+str(NUM_STEPS)+\": \"f'Loss: {train_loss.result()}')\n",
        "#      else:\n",
        "#        if (cn==1):\n",
        "#          print(\"Epoch \"+str(epoch + 1)+\": \"+\"Steps: \"+str(step+1)+\"/\"+str(NUM_STEPS)+\": \"f'Loss: {train_loss.result()}')\n",
        "#        else:\n",
        "#          sys.stdout.write(\"\\r\"+\"Epoch \"+str(epoch + 1)+\": \"+\"Steps: \"+str(step+1)+\"/\"+str(NUM_STEPS)+\": \"f'Loss: {train_loss.result()}')\n",
        "#  cn=0"
      ],
      "execution_count": 39,
      "outputs": []
    },
    {
      "cell_type": "code",
      "metadata": {
        "id": "zZw53yphJpIO"
      },
      "source": [
        "if train_params[\"split\"] != \"alldata\":\n",
        "  Path(train_params[\"output_dir\"] + \"/\" + \"fold_%s/cold/mu\"%i).mkdir(parents=True, exist_ok=True)\n",
        "  Path(train_params[\"output_dir\"] + \"/\" + \"fold_%s/cold/sigma\"%i).mkdir(parents=True, exist_ok=True)\n",
        "  Path(train_params[\"output_dir\"] + \"/\" + \"fold_%s/performance\"%i).mkdir(parents=True, exist_ok=True)"
      ],
      "execution_count": 40,
      "outputs": []
    },
    {
      "cell_type": "code",
      "metadata": {
        "colab": {
          "base_uri": "https://localhost:8080/"
        },
        "id": "64iMJ83Z5i3K",
        "outputId": "121562da-56cf-439b-b2fb-87bf1731a5e4"
      },
      "source": [
        "history = deepsiba.fit(trainGen,\n",
        "                       steps_per_epoch= ceil(NUM_TRAIN/bs),\n",
        "                       epochs=NUM_EPOCHS,\n",
        "                       verbose = 1,\n",
        "                       shuffle = True,\n",
        "                       callbacks= [term, rlr])"
      ],
      "execution_count": 41,
      "outputs": [
        {
          "output_type": "stream",
          "text": [
            "Epoch 1/10\n",
            "1367/1367 [==============================] - 91s 66ms/step - loss: -0.6091 - custom_mse: 0.0238 - get_cindex: 0.6086 - r_square: -0.9413 - pearson_r: 0.2691 - mse_similars: 0.0796\n",
            "Epoch 2/10\n",
            "1367/1367 [==============================] - 90s 66ms/step - loss: -1.7985 - custom_mse: 0.0103 - get_cindex: 0.7102 - r_square: 0.1522 - pearson_r: 0.5052 - mse_similars: nan\n",
            "Epoch 3/10\n",
            "1367/1367 [==============================] - 90s 66ms/step - loss: -1.9330 - custom_mse: 0.0096 - get_cindex: 0.7388 - r_square: 0.2107 - pearson_r: 0.5546 - mse_similars: nan\n",
            "Epoch 4/10\n",
            "1367/1367 [==============================] - 90s 66ms/step - loss: -2.0469 - custom_mse: 0.0077 - get_cindex: 0.7780 - r_square: 0.3660 - pearson_r: 0.6595 - mse_similars: nan\n",
            "Epoch 5/10\n",
            "1367/1367 [==============================] - 91s 66ms/step - loss: -2.1488 - custom_mse: 0.0057 - get_cindex: 0.8024 - r_square: 0.5265 - pearson_r: 0.7505 - mse_similars: nan\n",
            "Epoch 6/10\n",
            "1367/1367 [==============================] - 90s 66ms/step - loss: -2.1615 - custom_mse: 0.0063 - get_cindex: 0.8115 - r_square: 0.4798 - pearson_r: 0.7469 - mse_similars: nan\n",
            "Epoch 7/10\n",
            "1367/1367 [==============================] - 91s 66ms/step - loss: -2.2709 - custom_mse: 0.0055 - get_cindex: 0.8247 - r_square: 0.5431 - pearson_r: 0.7658 - mse_similars: nan\n",
            "Epoch 8/10\n",
            "1367/1367 [==============================] - 91s 67ms/step - loss: -2.3758 - custom_mse: 0.0041 - get_cindex: 0.8492 - r_square: 0.6588 - pearson_r: 0.8381 - mse_similars: 0.0026\n",
            "Epoch 9/10\n",
            "1367/1367 [==============================] - 91s 66ms/step - loss: -2.4568 - custom_mse: 0.0029 - get_cindex: 0.8607 - r_square: 0.7638 - pearson_r: 0.8863 - mse_similars: 0.0017\n",
            "Epoch 10/10\n",
            "1367/1367 [==============================] - 91s 66ms/step - loss: -2.5101 - custom_mse: 0.0026 - get_cindex: 0.8675 - r_square: 0.7826 - pearson_r: 0.8961 - mse_similars: 0.0017\n"
          ],
          "name": "stdout"
        }
      ]
    },
    {
      "cell_type": "code",
      "metadata": {
        "id": "iO9JvjOBTi0J"
      },
      "source": [
        "if history.history[\"r_square\"][len(history.history[\"r_square\"])-1] < 0.7:\n",
        "  history = deepsiba.fit(trainGen,\n",
        "                         steps_per_epoch= ceil(NUM_TRAIN/bs),\n",
        "                         epochs=10,\n",
        "                         verbose = 1,\n",
        "                         shuffle = True,\n",
        "                         callbacks= [term, rlr])"
      ],
      "execution_count": 24,
      "outputs": []
    },
    {
      "cell_type": "code",
      "metadata": {
        "id": "K3xh_Hvor8q6"
      },
      "source": [
        "deepsiba.save_weights('my_model2.h5')"
      ],
      "execution_count": 42,
      "outputs": []
    },
    {
      "cell_type": "code",
      "metadata": {
        "id": "6mYWA2xNu_f9"
      },
      "source": [
        "### kai predict generator ###\n",
        "if train_params[\"split\"] != \"alldata\":\n",
        "  #gaussian = keras.Model(deepsiba.inputs, deepsiba.get_layer('main_output').output)\n",
        "  pr_steps=ceil(len(df_cold)/train_params[\"predict_batch_size\"])\n",
        "  PredGen=preds_generator(train_params[\"predict_batch_size\"],df_cold,smiles_cold,X_atoms_cold, X_bonds_cold, X_edges_cold,deepsiba)\n",
        "  y_pred1=[]\n",
        "  y_pred2=[]\n",
        "  for g in range(pr_steps):\n",
        "    cold_pred=list(next(PredGen))\n",
        "    y_pred1=y_pred1+list(cold_pred[0])\n",
        "    y_pred2=y_pred2+list(cold_pred[1])\n",
        "y_pred1=np.array(y_pred1)\n",
        "y_pred2=np.array(y_pred2)\n",
        "if (len(y_pred1[np.where(y_pred1 <= train_params[\"prec_threshold\"])])>0):\n",
        "  get = model_evaluate(y_pred1,Y_cold,train_params[\"prec_threshold\"],df_cold)\n",
        "  get.to_csv(train_params[\"output_dir\"] + \"/\" + \"fold_%s/performance/\"%i + \"model_%s.csv\"%n)\n",
        "cold_preds_mus.append(y_pred1)\n",
        "np.save(train_params[\"output_dir\"] + \"/\" + \"fold_%s/cold/mu/\"%i + \"cold_mu_%s.npy\"%n, y_pred1)\n",
        "cold_preds_sigmas.append(y_pred2)\n",
        "np.save(train_params[\"output_dir\"] + \"/\" + \"fold_%s/cold/sigma/\"%i + \"cold_sigma_%s.npy\"%n, y_pred2)"
      ],
      "execution_count": 43,
      "outputs": []
    },
    {
      "cell_type": "code",
      "metadata": {
        "id": "2xfIqeTIbOA9"
      },
      "source": [
        "if train_params[\"split\"] != \"alldata\":\n",
        "  mu_star=np.mean(cold_preds_mus,axis=0)\n",
        "  sigma_star = np.sqrt(np.mean(cold_preds_sigmas + np.square(cold_preds_mus), axis = 0) - np.square(mu_star))\n",
        "  cv_star = sigma_star/mu_star\n",
        "  if (len(mu_star[np.where(mu_star <= train_params[\"prec_threshold\"])])>0):\n",
        "      get_fold = model_evaluate(mu_star,Y_cold,train_params[\"prec_threshold\"],df_cold)\n",
        "      get_fold.to_csv(train_params[\"output_dir\"] + \"/\" + \"fold_%s/ensemble_performance.csv\"%i)\n",
        "      get_all.append(get_fold)\n",
        "  df_cold['mu'] = mu_star\n",
        "  df_cold['cv'] = cv_star\n",
        "  df_cold.to_csv(train_params[\"output_dir\"] + \"/\" + \"fold_%s/ensemble_preds_dataframe.csv\"%i)"
      ],
      "execution_count": 44,
      "outputs": []
    },
    {
      "cell_type": "code",
      "metadata": {
        "colab": {
          "base_uri": "https://localhost:8080/",
          "height": 609
        },
        "id": "HPBbO43pcGla",
        "outputId": "bd3e401f-99cc-499f-eefe-cfbf193a1e5a"
      },
      "source": [
        "df_cold"
      ],
      "execution_count": 45,
      "outputs": [
        {
          "output_type": "execute_result",
          "data": {
            "text/html": [
              "<div>\n",
              "<style scoped>\n",
              "    .dataframe tbody tr th:only-of-type {\n",
              "        vertical-align: middle;\n",
              "    }\n",
              "\n",
              "    .dataframe tbody tr th {\n",
              "        vertical-align: top;\n",
              "    }\n",
              "\n",
              "    .dataframe thead th {\n",
              "        text-align: right;\n",
              "    }\n",
              "</style>\n",
              "<table border=\"1\" class=\"dataframe\">\n",
              "  <thead>\n",
              "    <tr style=\"text-align: right;\">\n",
              "      <th></th>\n",
              "      <th>X</th>\n",
              "      <th>Var1</th>\n",
              "      <th>Var2</th>\n",
              "      <th>value</th>\n",
              "      <th>sig_id.x</th>\n",
              "      <th>pert_iname.x</th>\n",
              "      <th>quality.x</th>\n",
              "      <th>rdkit.x</th>\n",
              "      <th>pert_dose.x</th>\n",
              "      <th>pert_time.x</th>\n",
              "      <th>sig_id.y</th>\n",
              "      <th>pert_iname.y</th>\n",
              "      <th>quality.y</th>\n",
              "      <th>rdkit.y</th>\n",
              "      <th>pert_dose.y</th>\n",
              "      <th>pert_time.y</th>\n",
              "      <th>V1</th>\n",
              "      <th>sigma_star</th>\n",
              "      <th>dist</th>\n",
              "      <th>pair</th>\n",
              "      <th>mu</th>\n",
              "      <th>cv</th>\n",
              "    </tr>\n",
              "  </thead>\n",
              "  <tbody>\n",
              "    <tr>\n",
              "      <th>0</th>\n",
              "      <td>91</td>\n",
              "      <td>BRD-A51714012</td>\n",
              "      <td>BRD-A54880345</td>\n",
              "      <td>0.156852</td>\n",
              "      <td>CPC004_A375_6H:BRD-A51714012-001-03-1:10</td>\n",
              "      <td>venlafaxine</td>\n",
              "      <td>1</td>\n",
              "      <td>COc1ccc(C(CN(C)C)C2(O)CCCCC2)cc1</td>\n",
              "      <td>10.0000</td>\n",
              "      <td>6</td>\n",
              "      <td>CPC004_A375_6H:BRD-A54880345-001-11-8:10</td>\n",
              "      <td>etomidate</td>\n",
              "      <td>1</td>\n",
              "      <td>CCOC(=O)c1cncn1C(C)c1ccccc1</td>\n",
              "      <td>10.0000</td>\n",
              "      <td>6</td>\n",
              "      <td>0.323492</td>\n",
              "      <td>0.046807</td>\n",
              "      <td>0.841270</td>\n",
              "      <td>COc1ccc(C(CN(C)C)C2(O)CCCCC2)cc1 and CCOC(=O)c...</td>\n",
              "      <td>0.314323</td>\n",
              "      <td>0.121557</td>\n",
              "    </tr>\n",
              "    <tr>\n",
              "      <th>1</th>\n",
              "      <td>104</td>\n",
              "      <td>BRD-A51714012</td>\n",
              "      <td>BRD-A62184259</td>\n",
              "      <td>0.327250</td>\n",
              "      <td>CPC004_A375_6H:BRD-A51714012-001-03-1:10</td>\n",
              "      <td>venlafaxine</td>\n",
              "      <td>1</td>\n",
              "      <td>COc1ccc(C(CN(C)C)C2(O)CCCCC2)cc1</td>\n",
              "      <td>10.0000</td>\n",
              "      <td>6</td>\n",
              "      <td>CPC004_A375_6H:BRD-A62184259-001-02-8:10</td>\n",
              "      <td>cycloheximide</td>\n",
              "      <td>1</td>\n",
              "      <td>CC1CC(C)C(=O)C(C(O)CC2CC(=O)NC(=O)C2)C1</td>\n",
              "      <td>10.0000</td>\n",
              "      <td>6</td>\n",
              "      <td>0.299491</td>\n",
              "      <td>0.045602</td>\n",
              "      <td>0.888889</td>\n",
              "      <td>COc1ccc(C(CN(C)C)C2(O)CCCCC2)cc1 and CC1CC(C)C...</td>\n",
              "      <td>0.284529</td>\n",
              "      <td>0.127238</td>\n",
              "    </tr>\n",
              "    <tr>\n",
              "      <th>2</th>\n",
              "      <td>118</td>\n",
              "      <td>BRD-A51714012</td>\n",
              "      <td>BRD-A83326220</td>\n",
              "      <td>0.318128</td>\n",
              "      <td>CPC004_A375_6H:BRD-A51714012-001-03-1:10</td>\n",
              "      <td>venlafaxine</td>\n",
              "      <td>1</td>\n",
              "      <td>COc1ccc(C(CN(C)C)C2(O)CCCCC2)cc1</td>\n",
              "      <td>10.0000</td>\n",
              "      <td>6</td>\n",
              "      <td>CPC004_A375_6H:BRD-A83326220-001-04-2:10</td>\n",
              "      <td>brazilin</td>\n",
              "      <td>1</td>\n",
              "      <td>Oc1ccc2c(c1)OCC1(O)Cc3cc(O)c(O)cc3C21</td>\n",
              "      <td>10.0000</td>\n",
              "      <td>6</td>\n",
              "      <td>0.243868</td>\n",
              "      <td>0.049710</td>\n",
              "      <td>0.857143</td>\n",
              "      <td>COc1ccc(C(CN(C)C)C2(O)CCCCC2)cc1 and Oc1ccc2c(...</td>\n",
              "      <td>0.245082</td>\n",
              "      <td>0.138234</td>\n",
              "    </tr>\n",
              "    <tr>\n",
              "      <th>3</th>\n",
              "      <td>133</td>\n",
              "      <td>BRD-A51714012</td>\n",
              "      <td>BRD-A93236127</td>\n",
              "      <td>0.315317</td>\n",
              "      <td>CPC004_A375_6H:BRD-A51714012-001-03-1:10</td>\n",
              "      <td>venlafaxine</td>\n",
              "      <td>1</td>\n",
              "      <td>COc1ccc(C(CN(C)C)C2(O)CCCCC2)cc1</td>\n",
              "      <td>10.0000</td>\n",
              "      <td>6</td>\n",
              "      <td>CPC004_A375_6H:BRD-A93236127-001-03-7:10</td>\n",
              "      <td>digitoxin</td>\n",
              "      <td>1</td>\n",
              "      <td>C[C@H]1O[C@@H](O[C@H]2[C@@H](O)C[C@H](O[C@H]3[...</td>\n",
              "      <td>10.0000</td>\n",
              "      <td>6</td>\n",
              "      <td>0.285898</td>\n",
              "      <td>0.039665</td>\n",
              "      <td>0.901099</td>\n",
              "      <td>COc1ccc(C(CN(C)C)C2(O)CCCCC2)cc1 and C[C@H]1O[...</td>\n",
              "      <td>0.267207</td>\n",
              "      <td>0.131542</td>\n",
              "    </tr>\n",
              "    <tr>\n",
              "      <th>4</th>\n",
              "      <td>149</td>\n",
              "      <td>BRD-A51714012</td>\n",
              "      <td>BRD-A93424738</td>\n",
              "      <td>0.179933</td>\n",
              "      <td>CPC004_A375_6H:BRD-A51714012-001-03-1:10</td>\n",
              "      <td>venlafaxine</td>\n",
              "      <td>1</td>\n",
              "      <td>COc1ccc(C(CN(C)C)C2(O)CCCCC2)cc1</td>\n",
              "      <td>10.0000</td>\n",
              "      <td>6</td>\n",
              "      <td>CPC004_A375_6H:BRD-A93424738-001-03-0:10</td>\n",
              "      <td>dexamethasone-acetate</td>\n",
              "      <td>1</td>\n",
              "      <td>CC(=O)OCC(=O)[C@@]1(O)[C@H](C)CC2C3CCC4=CC(=O)...</td>\n",
              "      <td>10.0000</td>\n",
              "      <td>6</td>\n",
              "      <td>0.352832</td>\n",
              "      <td>0.092941</td>\n",
              "      <td>0.880952</td>\n",
              "      <td>COc1ccc(C(CN(C)C)C2(O)CCCCC2)cc1 and CC(=O)OCC...</td>\n",
              "      <td>0.357562</td>\n",
              "      <td>0.135550</td>\n",
              "    </tr>\n",
              "    <tr>\n",
              "      <th>...</th>\n",
              "      <td>...</td>\n",
              "      <td>...</td>\n",
              "      <td>...</td>\n",
              "      <td>...</td>\n",
              "      <td>...</td>\n",
              "      <td>...</td>\n",
              "      <td>...</td>\n",
              "      <td>...</td>\n",
              "      <td>...</td>\n",
              "      <td>...</td>\n",
              "      <td>...</td>\n",
              "      <td>...</td>\n",
              "      <td>...</td>\n",
              "      <td>...</td>\n",
              "      <td>...</td>\n",
              "      <td>...</td>\n",
              "      <td>...</td>\n",
              "      <td>...</td>\n",
              "      <td>...</td>\n",
              "      <td>...</td>\n",
              "      <td>...</td>\n",
              "      <td>...</td>\n",
              "    </tr>\n",
              "    <tr>\n",
              "      <th>45579</th>\n",
              "      <td>224780</td>\n",
              "      <td>BRD-K48222931</td>\n",
              "      <td>BRD-K96041907</td>\n",
              "      <td>0.378380</td>\n",
              "      <td>DOSBIO001_A375_24H:BRD-K48222931:10.2274</td>\n",
              "      <td>BRD-K48222931</td>\n",
              "      <td>1</td>\n",
              "      <td>C[C@@H](CO)N1C[C@@H](C)[C@H](CN(C)Cc2ccccc2)OC...</td>\n",
              "      <td>10.2274</td>\n",
              "      <td>24</td>\n",
              "      <td>DOSBIO001_A375_24H:BRD-K96041907:10.2154</td>\n",
              "      <td>BRD-K96041907</td>\n",
              "      <td>1</td>\n",
              "      <td>CCCNC(=O)N(C)C[C@H]1N[C@@H](CO)[C@@H]1c1ccc(C2...</td>\n",
              "      <td>10.2154</td>\n",
              "      <td>24</td>\n",
              "      <td>0.298532</td>\n",
              "      <td>0.042265</td>\n",
              "      <td>0.831683</td>\n",
              "      <td>C[C@@H](CO)N1C[C@@H](C)[C@H](CN(C)Cc2ccccc2)OC...</td>\n",
              "      <td>0.289723</td>\n",
              "      <td>0.133837</td>\n",
              "    </tr>\n",
              "    <tr>\n",
              "      <th>45580</th>\n",
              "      <td>224781</td>\n",
              "      <td>BRD-K62242359</td>\n",
              "      <td>BRD-K96041907</td>\n",
              "      <td>0.601630</td>\n",
              "      <td>DOSBIO001_A375_24H:BRD-K62242359:10.5421</td>\n",
              "      <td>BRD-K62242359</td>\n",
              "      <td>1</td>\n",
              "      <td>CC(C)NC(=O)Nc1ccc2c(c1)C(=O)N([C@@H](C)CO)C[C@...</td>\n",
              "      <td>10.5421</td>\n",
              "      <td>24</td>\n",
              "      <td>DOSBIO001_A375_24H:BRD-K96041907:10.2154</td>\n",
              "      <td>BRD-K96041907</td>\n",
              "      <td>1</td>\n",
              "      <td>CCCNC(=O)N(C)C[C@H]1N[C@@H](CO)[C@@H]1c1ccc(C2...</td>\n",
              "      <td>10.2154</td>\n",
              "      <td>24</td>\n",
              "      <td>0.297804</td>\n",
              "      <td>0.051306</td>\n",
              "      <td>0.780000</td>\n",
              "      <td>CC(C)NC(=O)Nc1ccc2c(c1)C(=O)N([C@@H](C)CO)C[C@...</td>\n",
              "      <td>0.293257</td>\n",
              "      <td>0.153426</td>\n",
              "    </tr>\n",
              "    <tr>\n",
              "      <th>45581</th>\n",
              "      <td>224783</td>\n",
              "      <td>BRD-K88822846</td>\n",
              "      <td>BRD-K96041907</td>\n",
              "      <td>0.475502</td>\n",
              "      <td>DOSBIO001_A375_24H:BRD-K88822846:10.1074</td>\n",
              "      <td>BRD-K88822846</td>\n",
              "      <td>1</td>\n",
              "      <td>C[C@@H]1CN([C@H](C)CO)C(=O)c2cc(NS(C)(=O)=O)cc...</td>\n",
              "      <td>10.1074</td>\n",
              "      <td>24</td>\n",
              "      <td>DOSBIO001_A375_24H:BRD-K96041907:10.2154</td>\n",
              "      <td>BRD-K96041907</td>\n",
              "      <td>1</td>\n",
              "      <td>CCCNC(=O)N(C)C[C@H]1N[C@@H](CO)[C@@H]1c1ccc(C2...</td>\n",
              "      <td>10.2154</td>\n",
              "      <td>24</td>\n",
              "      <td>0.298268</td>\n",
              "      <td>0.050708</td>\n",
              "      <td>0.817308</td>\n",
              "      <td>C[C@@H]1CN([C@H](C)CO)C(=O)c2cc(NS(C)(=O)=O)cc...</td>\n",
              "      <td>0.294517</td>\n",
              "      <td>0.172014</td>\n",
              "    </tr>\n",
              "    <tr>\n",
              "      <th>45582</th>\n",
              "      <td>224784</td>\n",
              "      <td>BRD-K89961851</td>\n",
              "      <td>BRD-K96041907</td>\n",
              "      <td>0.435324</td>\n",
              "      <td>DOSBIO001_A375_24H:BRD-K89961851:10.2368</td>\n",
              "      <td>BRD-K89961851</td>\n",
              "      <td>1</td>\n",
              "      <td>N#C[C@H]1[C@@H](c2ccc(C3=CCCCC3)cc2)[C@H](CO)N...</td>\n",
              "      <td>10.2368</td>\n",
              "      <td>24</td>\n",
              "      <td>DOSBIO001_A375_24H:BRD-K96041907:10.2154</td>\n",
              "      <td>BRD-K96041907</td>\n",
              "      <td>1</td>\n",
              "      <td>CCCNC(=O)N(C)C[C@H]1N[C@@H](CO)[C@@H]1c1ccc(C2...</td>\n",
              "      <td>10.2154</td>\n",
              "      <td>24</td>\n",
              "      <td>0.279089</td>\n",
              "      <td>0.045356</td>\n",
              "      <td>0.645570</td>\n",
              "      <td>N#C[C@H]1[C@@H](c2ccc(C3=CCCCC3)cc2)[C@H](CO)N...</td>\n",
              "      <td>0.273105</td>\n",
              "      <td>0.153280</td>\n",
              "    </tr>\n",
              "    <tr>\n",
              "      <th>45583</th>\n",
              "      <td>224785</td>\n",
              "      <td>BRD-K92232855</td>\n",
              "      <td>BRD-K96041907</td>\n",
              "      <td>0.567322</td>\n",
              "      <td>DOSBIO001_A375_24H:BRD-K92232855:10.1419</td>\n",
              "      <td>BRD-K92232855</td>\n",
              "      <td>1</td>\n",
              "      <td>CC(C)NC(=O)N(C)C[C@@H]1Oc2ccc(N(C)C)cc2CC(=O)N...</td>\n",
              "      <td>10.1419</td>\n",
              "      <td>24</td>\n",
              "      <td>DOSBIO001_A375_24H:BRD-K96041907:10.2154</td>\n",
              "      <td>BRD-K96041907</td>\n",
              "      <td>1</td>\n",
              "      <td>CCCNC(=O)N(C)C[C@H]1N[C@@H](CO)[C@@H]1c1ccc(C2...</td>\n",
              "      <td>10.2154</td>\n",
              "      <td>24</td>\n",
              "      <td>0.289651</td>\n",
              "      <td>0.047284</td>\n",
              "      <td>0.780220</td>\n",
              "      <td>CC(C)NC(=O)N(C)C[C@@H]1Oc2ccc(N(C)C)cc2CC(=O)N...</td>\n",
              "      <td>0.296851</td>\n",
              "      <td>0.133483</td>\n",
              "    </tr>\n",
              "  </tbody>\n",
              "</table>\n",
              "<p>45584 rows × 22 columns</p>\n",
              "</div>"
            ],
            "text/plain": [
              "            X           Var1  ...        mu        cv\n",
              "0          91  BRD-A51714012  ...  0.314323  0.121557\n",
              "1         104  BRD-A51714012  ...  0.284529  0.127238\n",
              "2         118  BRD-A51714012  ...  0.245082  0.138234\n",
              "3         133  BRD-A51714012  ...  0.267207  0.131542\n",
              "4         149  BRD-A51714012  ...  0.357562  0.135550\n",
              "...       ...            ...  ...       ...       ...\n",
              "45579  224780  BRD-K48222931  ...  0.289723  0.133837\n",
              "45580  224781  BRD-K62242359  ...  0.293257  0.153426\n",
              "45581  224783  BRD-K88822846  ...  0.294517  0.172014\n",
              "45582  224784  BRD-K89961851  ...  0.273105  0.153280\n",
              "45583  224785  BRD-K92232855  ...  0.296851  0.133483\n",
              "\n",
              "[45584 rows x 22 columns]"
            ]
          },
          "metadata": {
            "tags": []
          },
          "execution_count": 45
        }
      ]
    },
    {
      "cell_type": "code",
      "metadata": {
        "id": "Rx3gGUTmlso8"
      },
      "source": [
        ""
      ],
      "execution_count": null,
      "outputs": []
    }
  ]
}